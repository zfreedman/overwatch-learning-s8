{
 "cells": [
  {
   "cell_type": "markdown",
   "metadata": {},
   "source": [
    "This file was ran after the hero scraper was written, before the hero data was scraped. The battletags in data/discovery.csv were already written. However, because of long processing time for BeautifulSoup(urllib2.req()) items (due to slow response from PlayOverwatch), it was decided to make a scrambled *copy* of discovery.csv. Why?\n",
    "\n",
    "discovery.csv lists battletags in descending order of SR. However, there will be a ML algorithm written for each of the 7 SR ranks (Bronze-Grandmaster). By randomizing the order of the battletags, we can quickly get a normally distributed \"sample\" of battletags spanning the entire SR range, allowing us to test ML agents on all SR classes before the dataset is completely collected, if it is decide to collect hero info for all the 165,000 battletags."
   ]
  },
  {
   "cell_type": "code",
   "execution_count": 7,
   "metadata": {
    "collapsed": true
   },
   "outputs": [],
   "source": [
    "import codecs\n",
    "import random"
   ]
  },
  {
   "cell_type": "code",
   "execution_count": 2,
   "metadata": {},
   "outputs": [
    {
     "data": {
      "text/plain": [
       "'\\nimport sys\\nreload(sys)\\nsys.setdefaultencoding(\"utf8\")\\n'"
      ]
     },
     "execution_count": 2,
     "metadata": {},
     "output_type": "execute_result"
    }
   ],
   "source": [
    "\"\"\"\n",
    "import sys\n",
    "reload(sys)\n",
    "sys.setdefaultencoding(\"utf8\")\n",
    "\"\"\""
   ]
  },
  {
   "cell_type": "code",
   "execution_count": 12,
   "metadata": {},
   "outputs": [],
   "source": [
    "random.seed(0)\n",
    "\n",
    "csv_strs = []\n",
    "\"\"\"\n",
    "max_count = 20\n",
    "count = 0\n",
    "\"\"\"\n",
    "with codecs.open(\"../data/discovery.csv\", \"r\", encoding=\"utf8\") as f:\n",
    "    for line in f:\n",
    "        csv_strs.append(line)\n",
    "        \"\"\"\n",
    "        count += 1\n",
    "        if count == max_count:\n",
    "            break\n",
    "        \"\"\"\n",
    "    \n",
    "random.shuffle(csv_strs)\n",
    "    \n",
    "#NOTE: This file is in write mode, not append mode. The contents of this file\n",
    "#will be overwritten. If the original discovery_scrambled.csv contents are\n",
    "#needed, either change the filename below OR change the filemode to append with\n",
    "#\"w\" changed to \"a\".\n",
    "with codecs.open(\"../data/discovery_scrambled.csv\", \"w\", encoding=\"utf8\") as f:\n",
    "    for line in csv_strs:\n",
    "        f.write(line)"
   ]
  }
 ],
 "metadata": {
  "kernelspec": {
   "display_name": "Python 2",
   "language": "python",
   "name": "python2"
  },
  "language_info": {
   "codemirror_mode": {
    "name": "ipython",
    "version": 2
   },
   "file_extension": ".py",
   "mimetype": "text/x-python",
   "name": "python",
   "nbconvert_exporter": "python",
   "pygments_lexer": "ipython2",
   "version": "2.7.13"
  }
 },
 "nbformat": 4,
 "nbformat_minor": 2
}
